{
  "nbformat": 4,
  "nbformat_minor": 5,
  "metadata": {
    "kernelspec": {
      "display_name": "Python 3",
      "language": "python",
      "name": "python3"
    },
    "language_info": {
      "codemirror_mode": {
        "name": "ipython",
        "version": 3
      },
      "file_extension": ".py",
      "mimetype": "text/x-python",
      "name": "python",
      "nbconvert_exporter": "python",
      "pygments_lexer": "ipython3",
      "version": "3.8.8"
    },
    "colab": {
      "name": "Estudo - Saresp - 2011 - 2018 .ipynb",
      "provenance": [],
      "include_colab_link": true
    }
  },
  "cells": [
    {
      "cell_type": "markdown",
      "metadata": {
        "id": "view-in-github",
        "colab_type": "text"
      },
      "source": [
        "<a href=\"https://colab.research.google.com/github/EnilaLeme/An-lise---Saresp/blob/main/Estudo_Saresp_2011_2018_.ipynb\" target=\"_parent\"><img src=\"https://colab.research.google.com/assets/colab-badge.svg\" alt=\"Open In Colab\"/></a>"
      ]
    },
    {
      "cell_type": "markdown",
      "metadata": {
        "id": "f393ea75"
      },
      "source": [
        "Fonte: https://www.kaggle.com/tiagodatascience/notas-saresp"
      ],
      "id": "f393ea75"
    },
    {
      "cell_type": "code",
      "metadata": {
        "id": "d982519e"
      },
      "source": [
        "# Bibliotecas:\n",
        "import numpy as np\n",
        "import pandas as pd\n",
        "import matplotlib.pyplot as plt\n",
        "import seaborn as sns\n",
        "import datetime as dt"
      ],
      "id": "d982519e",
      "execution_count": null,
      "outputs": []
    },
    {
      "cell_type": "code",
      "metadata": {
        "id": "b1e5df72"
      },
      "source": [
        "# Importando o arquivo:\n",
        "ed = pd.read_csv('sarespv1.csv')"
      ],
      "id": "b1e5df72",
      "execution_count": null,
      "outputs": []
    },
    {
      "cell_type": "code",
      "metadata": {
        "id": "2443aa47",
        "outputId": "2df0dbd8-7837-4ba1-91ae-02c429078dbd"
      },
      "source": [
        "# Visualizando as primeiras linhas:\n",
        "ed.head()"
      ],
      "id": "2443aa47",
      "execution_count": null,
      "outputs": [
        {
          "data": {
            "text/html": [
              "<div>\n",
              "<style scoped>\n",
              "    .dataframe tbody tr th:only-of-type {\n",
              "        vertical-align: middle;\n",
              "    }\n",
              "\n",
              "    .dataframe tbody tr th {\n",
              "        vertical-align: top;\n",
              "    }\n",
              "\n",
              "    .dataframe thead th {\n",
              "        text-align: right;\n",
              "    }\n",
              "</style>\n",
              "<table border=\"1\" class=\"dataframe\">\n",
              "  <thead>\n",
              "    <tr style=\"text-align: right;\">\n",
              "      <th></th>\n",
              "      <th>DEPADM</th>\n",
              "      <th>DepBol</th>\n",
              "      <th>NomeDepBol</th>\n",
              "      <th>codRMet</th>\n",
              "      <th>CODESC</th>\n",
              "      <th>NOMESC</th>\n",
              "      <th>SERIE_ANO</th>\n",
              "      <th>cod_per</th>\n",
              "      <th>periodo</th>\n",
              "      <th>co_comp</th>\n",
              "      <th>ds_comp</th>\n",
              "      <th>medprof</th>\n",
              "      <th>arquivo</th>\n",
              "      <th>classification</th>\n",
              "    </tr>\n",
              "  </thead>\n",
              "  <tbody>\n",
              "    <tr>\n",
              "      <th>0</th>\n",
              "      <td>1</td>\n",
              "      <td>1</td>\n",
              "      <td>Rede Estadual</td>\n",
              "      <td>1</td>\n",
              "      <td>24</td>\n",
              "      <td>GAVIAO PEIXOTO BRIGADEIRO                     ...</td>\n",
              "      <td>3º Ano EF</td>\n",
              "      <td>2</td>\n",
              "      <td>TARDE</td>\n",
              "      <td>2</td>\n",
              "      <td>MATEMÁTICA</td>\n",
              "      <td>173.8</td>\n",
              "      <td>2016-01-01</td>\n",
              "      <td>Básico</td>\n",
              "    </tr>\n",
              "    <tr>\n",
              "      <th>1</th>\n",
              "      <td>1</td>\n",
              "      <td>1</td>\n",
              "      <td>Rede Estadual</td>\n",
              "      <td>1</td>\n",
              "      <td>24</td>\n",
              "      <td>GAVIAO PEIXOTO BRIGADEIRO                     ...</td>\n",
              "      <td>3º Ano EF</td>\n",
              "      <td>9</td>\n",
              "      <td>GERAL</td>\n",
              "      <td>2</td>\n",
              "      <td>MATEMÁTICA</td>\n",
              "      <td>173.8</td>\n",
              "      <td>2016-01-01</td>\n",
              "      <td>Básico</td>\n",
              "    </tr>\n",
              "    <tr>\n",
              "      <th>2</th>\n",
              "      <td>1</td>\n",
              "      <td>1</td>\n",
              "      <td>Rede Estadual</td>\n",
              "      <td>1</td>\n",
              "      <td>61</td>\n",
              "      <td>SUZANA DE CAMPOS DONA                         ...</td>\n",
              "      <td>3º Ano EF</td>\n",
              "      <td>1</td>\n",
              "      <td>MANHA</td>\n",
              "      <td>2</td>\n",
              "      <td>MATEMÁTICA</td>\n",
              "      <td>184.8</td>\n",
              "      <td>2016-01-01</td>\n",
              "      <td>Adequado</td>\n",
              "    </tr>\n",
              "    <tr>\n",
              "      <th>3</th>\n",
              "      <td>1</td>\n",
              "      <td>1</td>\n",
              "      <td>Rede Estadual</td>\n",
              "      <td>1</td>\n",
              "      <td>61</td>\n",
              "      <td>SUZANA DE CAMPOS DONA                         ...</td>\n",
              "      <td>3º Ano EF</td>\n",
              "      <td>9</td>\n",
              "      <td>GERAL</td>\n",
              "      <td>2</td>\n",
              "      <td>MATEMÁTICA</td>\n",
              "      <td>184.8</td>\n",
              "      <td>2016-01-01</td>\n",
              "      <td>Adequado</td>\n",
              "    </tr>\n",
              "    <tr>\n",
              "      <th>4</th>\n",
              "      <td>1</td>\n",
              "      <td>1</td>\n",
              "      <td>Rede Estadual</td>\n",
              "      <td>1</td>\n",
              "      <td>73</td>\n",
              "      <td>JULIO DE FARIA E SOUZA PROFESSOR              ...</td>\n",
              "      <td>3º Ano EF</td>\n",
              "      <td>1</td>\n",
              "      <td>MANHA</td>\n",
              "      <td>2</td>\n",
              "      <td>MATEMÁTICA</td>\n",
              "      <td>181.4</td>\n",
              "      <td>2016-01-01</td>\n",
              "      <td>Adequado</td>\n",
              "    </tr>\n",
              "  </tbody>\n",
              "</table>\n",
              "</div>"
            ],
            "text/plain": [
              "   DEPADM  DepBol     NomeDepBol codRMet  CODESC  \\\n",
              "0       1       1  Rede Estadual       1      24   \n",
              "1       1       1  Rede Estadual       1      24   \n",
              "2       1       1  Rede Estadual       1      61   \n",
              "3       1       1  Rede Estadual       1      61   \n",
              "4       1       1  Rede Estadual       1      73   \n",
              "\n",
              "                                              NOMESC  SERIE_ANO  cod_per  \\\n",
              "0  GAVIAO PEIXOTO BRIGADEIRO                     ...  3º Ano EF        2   \n",
              "1  GAVIAO PEIXOTO BRIGADEIRO                     ...  3º Ano EF        9   \n",
              "2  SUZANA DE CAMPOS DONA                         ...  3º Ano EF        1   \n",
              "3  SUZANA DE CAMPOS DONA                         ...  3º Ano EF        9   \n",
              "4  JULIO DE FARIA E SOUZA PROFESSOR              ...  3º Ano EF        1   \n",
              "\n",
              "  periodo  co_comp     ds_comp  medprof     arquivo classification  \n",
              "0   TARDE        2  MATEMÁTICA    173.8  2016-01-01         Básico  \n",
              "1   GERAL        2  MATEMÁTICA    173.8  2016-01-01         Básico  \n",
              "2   MANHA        2  MATEMÁTICA    184.8  2016-01-01       Adequado  \n",
              "3   GERAL        2  MATEMÁTICA    184.8  2016-01-01       Adequado  \n",
              "4   MANHA        2  MATEMÁTICA    181.4  2016-01-01       Adequado  "
            ]
          },
          "execution_count": 3,
          "metadata": {},
          "output_type": "execute_result"
        }
      ]
    },
    {
      "cell_type": "code",
      "metadata": {
        "id": "c37f28e8",
        "outputId": "a58bb08b-49c8-45c9-8d1b-275f91199b2b"
      },
      "source": [
        "# Nome das colunas: \n",
        "ed.columns"
      ],
      "id": "c37f28e8",
      "execution_count": null,
      "outputs": [
        {
          "data": {
            "text/plain": [
              "Index(['DEPADM', 'DepBol', 'NomeDepBol', 'codRMet', 'CODESC', 'NOMESC',\n",
              "       'SERIE_ANO', 'cod_per', 'periodo', 'co_comp', 'ds_comp', 'medprof',\n",
              "       'arquivo', 'classification'],\n",
              "      dtype='object')"
            ]
          },
          "execution_count": 4,
          "metadata": {},
          "output_type": "execute_result"
        }
      ]
    },
    {
      "cell_type": "code",
      "metadata": {
        "id": "b2ab05c4",
        "outputId": "8906f90a-0163-4be1-acdf-3390e7503874"
      },
      "source": [
        "# Informações da base:\n",
        "ed.info()"
      ],
      "id": "b2ab05c4",
      "execution_count": null,
      "outputs": [
        {
          "name": "stdout",
          "output_type": "stream",
          "text": [
            "<class 'pandas.core.frame.DataFrame'>\n",
            "RangeIndex: 409210 entries, 0 to 409209\n",
            "Data columns (total 14 columns):\n",
            " #   Column          Non-Null Count   Dtype  \n",
            "---  ------          --------------   -----  \n",
            " 0   DEPADM          409210 non-null  int64  \n",
            " 1   DepBol          409210 non-null  int64  \n",
            " 2   NomeDepBol      409210 non-null  object \n",
            " 3   codRMet         409210 non-null  object \n",
            " 4   CODESC          409210 non-null  int64  \n",
            " 5   NOMESC          409210 non-null  object \n",
            " 6   SERIE_ANO       409210 non-null  object \n",
            " 7   cod_per         409210 non-null  int64  \n",
            " 8   periodo         409210 non-null  object \n",
            " 9   co_comp         409210 non-null  int64  \n",
            " 10  ds_comp         409210 non-null  object \n",
            " 11  medprof         407099 non-null  float64\n",
            " 12  arquivo         409210 non-null  object \n",
            " 13  classification  407095 non-null  object \n",
            "dtypes: float64(1), int64(5), object(8)\n",
            "memory usage: 43.7+ MB\n"
          ]
        }
      ]
    },
    {
      "cell_type": "code",
      "metadata": {
        "id": "4264f913",
        "outputId": "7d7147ff-0af7-4c36-fb4f-9b813e284d2b"
      },
      "source": [
        "# Estatísticas da base:\n",
        "ed.describe()"
      ],
      "id": "4264f913",
      "execution_count": null,
      "outputs": [
        {
          "data": {
            "text/html": [
              "<div>\n",
              "<style scoped>\n",
              "    .dataframe tbody tr th:only-of-type {\n",
              "        vertical-align: middle;\n",
              "    }\n",
              "\n",
              "    .dataframe tbody tr th {\n",
              "        vertical-align: top;\n",
              "    }\n",
              "\n",
              "    .dataframe thead th {\n",
              "        text-align: right;\n",
              "    }\n",
              "</style>\n",
              "<table border=\"1\" class=\"dataframe\">\n",
              "  <thead>\n",
              "    <tr style=\"text-align: right;\">\n",
              "      <th></th>\n",
              "      <th>DEPADM</th>\n",
              "      <th>DepBol</th>\n",
              "      <th>CODESC</th>\n",
              "      <th>cod_per</th>\n",
              "      <th>co_comp</th>\n",
              "      <th>medprof</th>\n",
              "    </tr>\n",
              "  </thead>\n",
              "  <tbody>\n",
              "    <tr>\n",
              "      <th>count</th>\n",
              "      <td>409210.0</td>\n",
              "      <td>409210.0</td>\n",
              "      <td>409210.000000</td>\n",
              "      <td>409210.000000</td>\n",
              "      <td>409210.000000</td>\n",
              "      <td>407099.000000</td>\n",
              "    </tr>\n",
              "    <tr>\n",
              "      <th>mean</th>\n",
              "      <td>1.0</td>\n",
              "      <td>1.0</td>\n",
              "      <td>275757.987161</td>\n",
              "      <td>5.045708</td>\n",
              "      <td>1.500000</td>\n",
              "      <td>240.300120</td>\n",
              "    </tr>\n",
              "    <tr>\n",
              "      <th>std</th>\n",
              "      <td>0.0</td>\n",
              "      <td>0.0</td>\n",
              "      <td>392798.455364</td>\n",
              "      <td>3.696578</td>\n",
              "      <td>0.500001</td>\n",
              "      <td>32.404607</td>\n",
              "    </tr>\n",
              "    <tr>\n",
              "      <th>min</th>\n",
              "      <td>1.0</td>\n",
              "      <td>1.0</td>\n",
              "      <td>12.000000</td>\n",
              "      <td>1.000000</td>\n",
              "      <td>1.000000</td>\n",
              "      <td>73.200000</td>\n",
              "    </tr>\n",
              "    <tr>\n",
              "      <th>25%</th>\n",
              "      <td>1.0</td>\n",
              "      <td>1.0</td>\n",
              "      <td>16329.000000</td>\n",
              "      <td>1.000000</td>\n",
              "      <td>1.000000</td>\n",
              "      <td>216.600000</td>\n",
              "    </tr>\n",
              "    <tr>\n",
              "      <th>50%</th>\n",
              "      <td>1.0</td>\n",
              "      <td>1.0</td>\n",
              "      <td>35452.000000</td>\n",
              "      <td>3.000000</td>\n",
              "      <td>1.500000</td>\n",
              "      <td>241.000000</td>\n",
              "    </tr>\n",
              "    <tr>\n",
              "      <th>75%</th>\n",
              "      <td>1.0</td>\n",
              "      <td>1.0</td>\n",
              "      <td>901507.000000</td>\n",
              "      <td>9.000000</td>\n",
              "      <td>2.000000</td>\n",
              "      <td>265.100000</td>\n",
              "    </tr>\n",
              "    <tr>\n",
              "      <th>max</th>\n",
              "      <td>1.0</td>\n",
              "      <td>1.0</td>\n",
              "      <td>926103.000000</td>\n",
              "      <td>9.000000</td>\n",
              "      <td>2.000000</td>\n",
              "      <td>412.900000</td>\n",
              "    </tr>\n",
              "  </tbody>\n",
              "</table>\n",
              "</div>"
            ],
            "text/plain": [
              "         DEPADM    DepBol         CODESC        cod_per        co_comp  \\\n",
              "count  409210.0  409210.0  409210.000000  409210.000000  409210.000000   \n",
              "mean        1.0       1.0  275757.987161       5.045708       1.500000   \n",
              "std         0.0       0.0  392798.455364       3.696578       0.500001   \n",
              "min         1.0       1.0      12.000000       1.000000       1.000000   \n",
              "25%         1.0       1.0   16329.000000       1.000000       1.000000   \n",
              "50%         1.0       1.0   35452.000000       3.000000       1.500000   \n",
              "75%         1.0       1.0  901507.000000       9.000000       2.000000   \n",
              "max         1.0       1.0  926103.000000       9.000000       2.000000   \n",
              "\n",
              "             medprof  \n",
              "count  407099.000000  \n",
              "mean      240.300120  \n",
              "std        32.404607  \n",
              "min        73.200000  \n",
              "25%       216.600000  \n",
              "50%       241.000000  \n",
              "75%       265.100000  \n",
              "max       412.900000  "
            ]
          },
          "execution_count": 6,
          "metadata": {},
          "output_type": "execute_result"
        }
      ]
    },
    {
      "cell_type": "code",
      "metadata": {
        "id": "b47c636f",
        "outputId": "a0524f2e-cb01-41e7-9b36-f128383bd9a5"
      },
      "source": [
        "# Verificando valores distintos:\n",
        "ed['DEPADM'].unique()"
      ],
      "id": "b47c636f",
      "execution_count": null,
      "outputs": [
        {
          "data": {
            "text/plain": [
              "array([1], dtype=int64)"
            ]
          },
          "execution_count": 8,
          "metadata": {},
          "output_type": "execute_result"
        }
      ]
    },
    {
      "cell_type": "code",
      "metadata": {
        "id": "5c70d12f",
        "outputId": "ea0768a2-e9c9-423a-9719-9d9d4ba4ca4c"
      },
      "source": [
        "ed['DepBol'].unique()"
      ],
      "id": "5c70d12f",
      "execution_count": null,
      "outputs": [
        {
          "data": {
            "text/plain": [
              "array([1], dtype=int64)"
            ]
          },
          "execution_count": 9,
          "metadata": {},
          "output_type": "execute_result"
        }
      ]
    },
    {
      "cell_type": "code",
      "metadata": {
        "scrolled": true,
        "id": "911f3dc8",
        "outputId": "83baf9a9-09a1-4235-8bd8-621894195167"
      },
      "source": [
        "ed['NomeDepBol'].unique()"
      ],
      "id": "911f3dc8",
      "execution_count": null,
      "outputs": [
        {
          "data": {
            "text/plain": [
              "array(['Rede Estadual'], dtype=object)"
            ]
          },
          "execution_count": 10,
          "metadata": {},
          "output_type": "execute_result"
        }
      ]
    },
    {
      "cell_type": "code",
      "metadata": {
        "id": "864df422",
        "outputId": "61e3c3a0-e7fd-4eca-e4d0-55a0541fe831"
      },
      "source": [
        "ed['codRMet'].unique()"
      ],
      "id": "864df422",
      "execution_count": null,
      "outputs": [
        {
          "data": {
            "text/plain": [
              "array(['1', '2', '3', '4', '5', '7', '6', 'Unknow'], dtype=object)"
            ]
          },
          "execution_count": 11,
          "metadata": {},
          "output_type": "execute_result"
        }
      ]
    },
    {
      "cell_type": "code",
      "metadata": {
        "id": "d4df97f6",
        "outputId": "a3f9326b-c678-4dd3-92bc-aeae0faa7cca"
      },
      "source": [
        "ed['SERIE_ANO'].unique()"
      ],
      "id": "d4df97f6",
      "execution_count": null,
      "outputs": [
        {
          "data": {
            "text/plain": [
              "array(['3º Ano EF', '5º Ano EF', '7º Ano EF', '9º Ano EF', 'EM-3ª série'],\n",
              "      dtype=object)"
            ]
          },
          "execution_count": 12,
          "metadata": {},
          "output_type": "execute_result"
        }
      ]
    },
    {
      "cell_type": "code",
      "metadata": {
        "scrolled": true,
        "id": "6ee809b6",
        "outputId": "3f2b69bf-43e6-4f2d-a95b-9b5bbdb23d7a"
      },
      "source": [
        "ed['periodo'].unique()"
      ],
      "id": "6ee809b6",
      "execution_count": null,
      "outputs": [
        {
          "data": {
            "text/plain": [
              "array(['TARDE', 'GERAL', 'MANHA', 'NOITE'], dtype=object)"
            ]
          },
          "execution_count": 13,
          "metadata": {},
          "output_type": "execute_result"
        }
      ]
    },
    {
      "cell_type": "code",
      "metadata": {
        "id": "14babc61",
        "outputId": "9ba39d84-20c4-49e5-a2de-af32e2236720"
      },
      "source": [
        "ed['co_comp'].unique()"
      ],
      "id": "14babc61",
      "execution_count": null,
      "outputs": [
        {
          "data": {
            "text/plain": [
              "array([2, 1], dtype=int64)"
            ]
          },
          "execution_count": 14,
          "metadata": {},
          "output_type": "execute_result"
        }
      ]
    },
    {
      "cell_type": "code",
      "metadata": {
        "id": "6cacebaf",
        "outputId": "0eb5c1b3-4b6a-4b0e-a52d-390a225c1e9c"
      },
      "source": [
        "ed['ds_comp'].unique()"
      ],
      "id": "6cacebaf",
      "execution_count": null,
      "outputs": [
        {
          "data": {
            "text/plain": [
              "array(['MATEMÁTICA', 'LÍNGUA PORTUGUESA'], dtype=object)"
            ]
          },
          "execution_count": 15,
          "metadata": {},
          "output_type": "execute_result"
        }
      ]
    },
    {
      "cell_type": "code",
      "metadata": {
        "id": "2301a3c5",
        "outputId": "7376b70b-99f0-4657-f01d-080dce1905e3"
      },
      "source": [
        "ed['classification'].unique()"
      ],
      "id": "2301a3c5",
      "execution_count": null,
      "outputs": [
        {
          "data": {
            "text/plain": [
              "array(['Básico', 'Adequado', 'Avançado', 'Abaixo do Básico', nan],\n",
              "      dtype=object)"
            ]
          },
          "execution_count": 16,
          "metadata": {},
          "output_type": "execute_result"
        }
      ]
    },
    {
      "cell_type": "code",
      "metadata": {
        "id": "044cefc7",
        "outputId": "bdb71aff-d0b3-4593-b1e4-890a35002570"
      },
      "source": [
        "# Verificando quantos estudantes foram classificados em cada uma das categorias: Básico, Adequado, Abaixo do Básico, Avançado:\n",
        "ed['classification'].value_counts()"
      ],
      "id": "044cefc7",
      "execution_count": null,
      "outputs": [
        {
          "data": {
            "text/plain": [
              "Básico              301872\n",
              "Adequado             83833\n",
              "Abaixo do Básico     13427\n",
              "Avançado              7963\n",
              "Name: classification, dtype: int64"
            ]
          },
          "execution_count": 18,
          "metadata": {},
          "output_type": "execute_result"
        }
      ]
    },
    {
      "cell_type": "code",
      "metadata": {
        "id": "12c1c134",
        "outputId": "1ed90168-4088-4fc3-a59d-b3d466cd47d9"
      },
      "source": [
        "# Verificando quantos estudantes fizeram/foram cadastrados para o Saresp em cada ano:\n",
        "ed['arquivo'].value_counts()"
      ],
      "id": "12c1c134",
      "execution_count": null,
      "outputs": [
        {
          "data": {
            "text/plain": [
              "2011-01-01    59126\n",
              "2012-01-01    58598\n",
              "2013-01-01    57668\n",
              "2014-01-01    55760\n",
              "2015-01-01    54828\n",
              "2016-01-01    54700\n",
              "2017-01-01    48148\n",
              "2018-01-01    20382\n",
              "Name: arquivo, dtype: int64"
            ]
          },
          "execution_count": 17,
          "metadata": {},
          "output_type": "execute_result"
        }
      ]
    },
    {
      "cell_type": "code",
      "metadata": {
        "id": "96c38b5f",
        "outputId": "4a57f925-1016-419c-a5b0-13a4e7199748"
      },
      "source": [
        "# Escolhendo as colunas que serão utilizadas para análise:\n",
        "edu = ed.loc[:,['NOMESC', 'SERIE_ANO', 'periodo', 'ds_comp', 'arquivo', 'classification']]\n",
        "edu.head()"
      ],
      "id": "96c38b5f",
      "execution_count": null,
      "outputs": [
        {
          "data": {
            "text/html": [
              "<div>\n",
              "<style scoped>\n",
              "    .dataframe tbody tr th:only-of-type {\n",
              "        vertical-align: middle;\n",
              "    }\n",
              "\n",
              "    .dataframe tbody tr th {\n",
              "        vertical-align: top;\n",
              "    }\n",
              "\n",
              "    .dataframe thead th {\n",
              "        text-align: right;\n",
              "    }\n",
              "</style>\n",
              "<table border=\"1\" class=\"dataframe\">\n",
              "  <thead>\n",
              "    <tr style=\"text-align: right;\">\n",
              "      <th></th>\n",
              "      <th>NOMESC</th>\n",
              "      <th>SERIE_ANO</th>\n",
              "      <th>periodo</th>\n",
              "      <th>ds_comp</th>\n",
              "      <th>arquivo</th>\n",
              "      <th>classification</th>\n",
              "    </tr>\n",
              "  </thead>\n",
              "  <tbody>\n",
              "    <tr>\n",
              "      <th>0</th>\n",
              "      <td>GAVIAO PEIXOTO BRIGADEIRO                     ...</td>\n",
              "      <td>3º Ano EF</td>\n",
              "      <td>TARDE</td>\n",
              "      <td>MATEMÁTICA</td>\n",
              "      <td>2016-01-01</td>\n",
              "      <td>Básico</td>\n",
              "    </tr>\n",
              "    <tr>\n",
              "      <th>1</th>\n",
              "      <td>GAVIAO PEIXOTO BRIGADEIRO                     ...</td>\n",
              "      <td>3º Ano EF</td>\n",
              "      <td>GERAL</td>\n",
              "      <td>MATEMÁTICA</td>\n",
              "      <td>2016-01-01</td>\n",
              "      <td>Básico</td>\n",
              "    </tr>\n",
              "    <tr>\n",
              "      <th>2</th>\n",
              "      <td>SUZANA DE CAMPOS DONA                         ...</td>\n",
              "      <td>3º Ano EF</td>\n",
              "      <td>MANHA</td>\n",
              "      <td>MATEMÁTICA</td>\n",
              "      <td>2016-01-01</td>\n",
              "      <td>Adequado</td>\n",
              "    </tr>\n",
              "    <tr>\n",
              "      <th>3</th>\n",
              "      <td>SUZANA DE CAMPOS DONA                         ...</td>\n",
              "      <td>3º Ano EF</td>\n",
              "      <td>GERAL</td>\n",
              "      <td>MATEMÁTICA</td>\n",
              "      <td>2016-01-01</td>\n",
              "      <td>Adequado</td>\n",
              "    </tr>\n",
              "    <tr>\n",
              "      <th>4</th>\n",
              "      <td>JULIO DE FARIA E SOUZA PROFESSOR              ...</td>\n",
              "      <td>3º Ano EF</td>\n",
              "      <td>MANHA</td>\n",
              "      <td>MATEMÁTICA</td>\n",
              "      <td>2016-01-01</td>\n",
              "      <td>Adequado</td>\n",
              "    </tr>\n",
              "  </tbody>\n",
              "</table>\n",
              "</div>"
            ],
            "text/plain": [
              "                                              NOMESC  SERIE_ANO periodo  \\\n",
              "0  GAVIAO PEIXOTO BRIGADEIRO                     ...  3º Ano EF   TARDE   \n",
              "1  GAVIAO PEIXOTO BRIGADEIRO                     ...  3º Ano EF   GERAL   \n",
              "2  SUZANA DE CAMPOS DONA                         ...  3º Ano EF   MANHA   \n",
              "3  SUZANA DE CAMPOS DONA                         ...  3º Ano EF   GERAL   \n",
              "4  JULIO DE FARIA E SOUZA PROFESSOR              ...  3º Ano EF   MANHA   \n",
              "\n",
              "      ds_comp     arquivo classification  \n",
              "0  MATEMÁTICA  2016-01-01         Básico  \n",
              "1  MATEMÁTICA  2016-01-01         Básico  \n",
              "2  MATEMÁTICA  2016-01-01       Adequado  \n",
              "3  MATEMÁTICA  2016-01-01       Adequado  \n",
              "4  MATEMÁTICA  2016-01-01       Adequado  "
            ]
          },
          "execution_count": 100,
          "metadata": {},
          "output_type": "execute_result"
        }
      ]
    },
    {
      "cell_type": "code",
      "metadata": {
        "id": "2095689b",
        "outputId": "2bd53443-d93a-4729-9288-bba3dac44fa6"
      },
      "source": [
        "# Alterando a coluna \"arquivo\" para o formato de data e fazendo a verificação:\n",
        "edu['arquivo'] = pd.to_datetime(edu['arquivo'])\n",
        "edu.info()"
      ],
      "id": "2095689b",
      "execution_count": null,
      "outputs": [
        {
          "name": "stdout",
          "output_type": "stream",
          "text": [
            "<class 'pandas.core.frame.DataFrame'>\n",
            "RangeIndex: 409210 entries, 0 to 409209\n",
            "Data columns (total 6 columns):\n",
            " #   Column          Non-Null Count   Dtype         \n",
            "---  ------          --------------   -----         \n",
            " 0   NOMESC          409210 non-null  object        \n",
            " 1   SERIE_ANO       409210 non-null  object        \n",
            " 2   periodo         409210 non-null  object        \n",
            " 3   ds_comp         409210 non-null  object        \n",
            " 4   arquivo         409210 non-null  datetime64[ns]\n",
            " 5   classification  407095 non-null  object        \n",
            "dtypes: datetime64[ns](1), object(5)\n",
            "memory usage: 18.7+ MB\n"
          ]
        }
      ]
    },
    {
      "cell_type": "code",
      "metadata": {
        "id": "554f3263",
        "outputId": "197ed4e5-32cd-40c0-aa56-e3082fea24ab"
      },
      "source": [
        "# Verificando se temos dados nulos para tratar:\n",
        "edu.isnull().sum()"
      ],
      "id": "554f3263",
      "execution_count": null,
      "outputs": [
        {
          "data": {
            "text/plain": [
              "NOMESC               0\n",
              "SERIE_ANO            0\n",
              "periodo              0\n",
              "ds_comp              0\n",
              "arquivo              0\n",
              "classification    2115\n",
              "dtype: int64"
            ]
          },
          "execution_count": 21,
          "metadata": {},
          "output_type": "execute_result"
        }
      ]
    },
    {
      "cell_type": "code",
      "metadata": {
        "id": "5e0b5136",
        "outputId": "2d238511-123a-44f7-dc90-24d485f08e1b"
      },
      "source": [
        "# Plotando o histograma com o total de alunos em cada uma das categorias: Básico, Adequado, Abaixo do Básico, Avançado:\n",
        "plt.figure(figsize = (20,10))\n",
        "edu['classification'].hist(color='orange', edgecolor = 'black', width = 0.4)\n",
        "plt.title(\"Distribuição da classificação dos estudantes entre os anos de 2011 e 2018 \\n\", fontsize = 20)\n",
        "plt.xlabel(\"\\n Classificação\", fontsize = 15)\n",
        "plt.ylabel(\"Quantidade\", fontsize = 15)"
      ],
      "id": "5e0b5136",
      "execution_count": null,
      "outputs": [
        {
          "data": {
            "text/plain": [
              "Text(0, 0.5, 'Quantidade')"
            ]
          },
          "execution_count": 22,
          "metadata": {},
          "output_type": "execute_result"
        },
        {
          "data": {
            "image/png": "[encoded data removed]",
            "text/plain": [
              "<Figure size 1440x720 with 1 Axes>"
            ]
          },
          "metadata": {
            "needs_background": "light"
          },
          "output_type": "display_data"
        }
      ]
    },
    {
      "cell_type": "code",
      "metadata": {
        "id": "6f9a4cb3",
        "outputId": "299929a6-bb2a-4977-c6c8-515118e9a16a"
      },
      "source": [
        "# Agora, vamos colocar em uma linha do tempo, como os estudamtes foram classificados:\n",
        "\n",
        "# Primeiramente, agrupando os dados:\n",
        "agrupado = edu.groupby(['arquivo', 'classification'])['classification'].count()\n",
        "agrupado = pd.DataFrame(agrupado)\n",
        "agrupado.head()"
      ],
      "id": "6f9a4cb3",
      "execution_count": null,
      "outputs": [
        {
          "data": {
            "text/html": [
              "<div>\n",
              "<style scoped>\n",
              "    .dataframe tbody tr th:only-of-type {\n",
              "        vertical-align: middle;\n",
              "    }\n",
              "\n",
              "    .dataframe tbody tr th {\n",
              "        vertical-align: top;\n",
              "    }\n",
              "\n",
              "    .dataframe thead th {\n",
              "        text-align: right;\n",
              "    }\n",
              "</style>\n",
              "<table border=\"1\" class=\"dataframe\">\n",
              "  <thead>\n",
              "    <tr style=\"text-align: right;\">\n",
              "      <th></th>\n",
              "      <th></th>\n",
              "      <th>classification</th>\n",
              "    </tr>\n",
              "    <tr>\n",
              "      <th>arquivo</th>\n",
              "      <th>classification</th>\n",
              "      <th></th>\n",
              "    </tr>\n",
              "  </thead>\n",
              "  <tbody>\n",
              "    <tr>\n",
              "      <th rowspan=\"4\" valign=\"top\">2011-01-01</th>\n",
              "      <th>Abaixo do Básico</th>\n",
              "      <td>1781</td>\n",
              "    </tr>\n",
              "    <tr>\n",
              "      <th>Adequado</th>\n",
              "      <td>7851</td>\n",
              "    </tr>\n",
              "    <tr>\n",
              "      <th>Avançado</th>\n",
              "      <td>310</td>\n",
              "    </tr>\n",
              "    <tr>\n",
              "      <th>Básico</th>\n",
              "      <td>49184</td>\n",
              "    </tr>\n",
              "    <tr>\n",
              "      <th>2012-01-01</th>\n",
              "      <th>Abaixo do Básico</th>\n",
              "      <td>1834</td>\n",
              "    </tr>\n",
              "  </tbody>\n",
              "</table>\n",
              "</div>"
            ],
            "text/plain": [
              "                             classification\n",
              "arquivo    classification                  \n",
              "2011-01-01 Abaixo do Básico            1781\n",
              "           Adequado                    7851\n",
              "           Avançado                     310\n",
              "           Básico                     49184\n",
              "2012-01-01 Abaixo do Básico            1834"
            ]
          },
          "execution_count": 99,
          "metadata": {},
          "output_type": "execute_result"
        }
      ]
    },
    {
      "cell_type": "code",
      "metadata": {
        "id": "aded6bc0"
      },
      "source": [
        "# Renomeando a coluna:\n",
        "agrupado.columns = ['Classificação']"
      ],
      "id": "aded6bc0",
      "execution_count": null,
      "outputs": []
    },
    {
      "cell_type": "code",
      "metadata": {
        "scrolled": true,
        "id": "38acc710",
        "outputId": "6ee9f4a4-bdde-4849-d666-c45012e7747a"
      },
      "source": [
        "# Gráfico:\n",
        "plt.figure(figsize = (20,10))\n",
        "sns.lineplot(x = \"arquivo\", y = \"Classificação\", data = agrupado, hue = 'classification', lw = 3)\n",
        "\n",
        "plt.title('Gráfico da classificação dos estudates entre 2011 e 2018 \\n', fontsize = 20)\n",
        "plt.xlabel('Ano', fontsize = 15)\n",
        "plt.ylabel('Quantidade', fontsize = 15)\n",
        "plt.legend(fontsize = 20)\n",
        "plt.show()"
      ],
      "id": "38acc710",
      "execution_count": null,
      "outputs": [
        {
          "data": {
            "image/png": "[encoded data removed]",
            "text/plain": [
              "<Figure size 1440x720 with 1 Axes>"
            ]
          },
          "metadata": {
            "needs_background": "light"
          },
          "output_type": "display_data"
        }
      ]
    },
    {
      "cell_type": "code",
      "metadata": {
        "id": "9915900b"
      },
      "source": [
        "# O número de estudantes nos níveis \"Básico\" e \"Abaixo do Básico\" diminuiu\n",
        "# Portanto, as outras duas categorias \"Adequado\" e \"Avançado\" deveriam aumentar\n",
        "# Ou, pelo menos uma delas deveria aumentar consideravelmente\n",
        "# Mas o que ocorre é que o número de estudantes no nível \"Adequado\" também diminuiu\n",
        "# E no nível \"Avançado\" aumentou pouco nos últimos anos\n",
        "# Dessa forma, é necessário fazer um estudo mais profundo desses dados\n",
        "# Para saber se o número de estudantes que tem realizado a prova é o mesmo em todos os anos"
      ],
      "id": "9915900b",
      "execution_count": null,
      "outputs": []
    },
    {
      "cell_type": "code",
      "metadata": {
        "id": "317121ee",
        "outputId": "aa0de394-3838-4a7d-a9f2-c6b3e1dea430"
      },
      "source": [
        "# Verificando a classificação dos estudantes no ano de 2011:\n",
        "edu_2011 = edu.loc[:, ['classification']][edu.loc[:,'arquivo'] == '01-01-2011']\n",
        "edu_2011.head()"
      ],
      "id": "317121ee",
      "execution_count": null,
      "outputs": [
        {
          "data": {
            "text/html": [
              "<div>\n",
              "<style scoped>\n",
              "    .dataframe tbody tr th:only-of-type {\n",
              "        vertical-align: middle;\n",
              "    }\n",
              "\n",
              "    .dataframe tbody tr th {\n",
              "        vertical-align: top;\n",
              "    }\n",
              "\n",
              "    .dataframe thead th {\n",
              "        text-align: right;\n",
              "    }\n",
              "</style>\n",
              "<table border=\"1\" class=\"dataframe\">\n",
              "  <thead>\n",
              "    <tr style=\"text-align: right;\">\n",
              "      <th></th>\n",
              "      <th>classification</th>\n",
              "    </tr>\n",
              "  </thead>\n",
              "  <tbody>\n",
              "    <tr>\n",
              "      <th>38293</th>\n",
              "      <td>Básico</td>\n",
              "    </tr>\n",
              "    <tr>\n",
              "      <th>38294</th>\n",
              "      <td>Básico</td>\n",
              "    </tr>\n",
              "    <tr>\n",
              "      <th>38295</th>\n",
              "      <td>Básico</td>\n",
              "    </tr>\n",
              "    <tr>\n",
              "      <th>38296</th>\n",
              "      <td>Adequado</td>\n",
              "    </tr>\n",
              "    <tr>\n",
              "      <th>38297</th>\n",
              "      <td>Adequado</td>\n",
              "    </tr>\n",
              "  </tbody>\n",
              "</table>\n",
              "</div>"
            ],
            "text/plain": [
              "      classification\n",
              "38293         Básico\n",
              "38294         Básico\n",
              "38295         Básico\n",
              "38296       Adequado\n",
              "38297       Adequado"
            ]
          },
          "execution_count": 98,
          "metadata": {},
          "output_type": "execute_result"
        }
      ]
    },
    {
      "cell_type": "code",
      "metadata": {
        "id": "bdf0044b",
        "outputId": "60675def-e29e-498b-9a64-7525b66419a3"
      },
      "source": [
        "# Verificando se todos os alunos de 2011 estão classificados em uma das categorias:\n",
        "edu_2011['classification'].isnull().sum()"
      ],
      "id": "bdf0044b",
      "execution_count": null,
      "outputs": [
        {
          "data": {
            "text/plain": [
              "0"
            ]
          },
          "execution_count": 45,
          "metadata": {},
          "output_type": "execute_result"
        }
      ]
    },
    {
      "cell_type": "code",
      "metadata": {
        "id": "98326b1c",
        "outputId": "13c804a8-ab01-4ef5-c88c-c89443927358"
      },
      "source": [
        "# Total de alunos em 2011:\n",
        "len(edu_2011['classification'])"
      ],
      "id": "98326b1c",
      "execution_count": null,
      "outputs": [
        {
          "data": {
            "text/plain": [
              "59126"
            ]
          },
          "execution_count": 47,
          "metadata": {},
          "output_type": "execute_result"
        }
      ]
    },
    {
      "cell_type": "code",
      "metadata": {
        "id": "ee7d2e65",
        "outputId": "c348a8d4-e492-471f-fa1b-e8899e7718a4"
      },
      "source": [
        "# Fazendo a mesma investigação para os demais anos:\n",
        "\n",
        "edu_2012 = edu.loc[:, ['classification']][edu.loc[:,'arquivo'] == '01-01-2012']\n",
        "edu_2012['classification'].isnull().sum()"
      ],
      "id": "ee7d2e65",
      "execution_count": null,
      "outputs": [
        {
          "data": {
            "text/plain": [
              "0"
            ]
          },
          "execution_count": 48,
          "metadata": {},
          "output_type": "execute_result"
        }
      ]
    },
    {
      "cell_type": "code",
      "metadata": {
        "id": "21ae8afc",
        "outputId": "b008d414-801a-4c91-dd7c-40cfc9d73ba1"
      },
      "source": [
        "len(edu_2012['classification'])"
      ],
      "id": "21ae8afc",
      "execution_count": null,
      "outputs": [
        {
          "data": {
            "text/plain": [
              "58598"
            ]
          },
          "execution_count": 51,
          "metadata": {},
          "output_type": "execute_result"
        }
      ]
    },
    {
      "cell_type": "code",
      "metadata": {
        "id": "0f3b211f",
        "outputId": "17f9c6c7-4ad9-480a-92d6-16992c6ea479"
      },
      "source": [
        "edu_2013 = edu.loc[:, ['classification']][edu.loc[:,'arquivo'] == '01-01-2013']\n",
        "n = edu_2013['classification'].isnull().sum()\n",
        "n"
      ],
      "id": "0f3b211f",
      "execution_count": null,
      "outputs": [
        {
          "data": {
            "text/plain": [
              "4"
            ]
          },
          "execution_count": 63,
          "metadata": {},
          "output_type": "execute_result"
        }
      ]
    },
    {
      "cell_type": "code",
      "metadata": {
        "scrolled": true,
        "id": "01c87173",
        "outputId": "4386bc63-dcf1-4b0c-e934-e0358add531e"
      },
      "source": [
        "len(edu_2013['classification']) - n"
      ],
      "id": "01c87173",
      "execution_count": null,
      "outputs": [
        {
          "data": {
            "text/plain": [
              "57664"
            ]
          },
          "execution_count": 61,
          "metadata": {},
          "output_type": "execute_result"
        }
      ]
    },
    {
      "cell_type": "code",
      "metadata": {
        "id": "edcbaa4f",
        "outputId": "c1d8a905-fce9-4b02-ffa9-6f8be21ec5d2"
      },
      "source": [
        "edu_2014 = edu.loc[:, ['classification']][edu.loc[:,'arquivo'] == '01-01-2014']\n",
        "n = edu_2014['classification'].isnull().sum()\n",
        "n"
      ],
      "id": "edcbaa4f",
      "execution_count": null,
      "outputs": [
        {
          "data": {
            "text/plain": [
              "92"
            ]
          },
          "execution_count": 64,
          "metadata": {},
          "output_type": "execute_result"
        }
      ]
    },
    {
      "cell_type": "code",
      "metadata": {
        "id": "75926758",
        "outputId": "72c6dbdb-f114-4f03-cbc1-593ff1cfd3f5"
      },
      "source": [
        "len(edu_2014['classification']) - n"
      ],
      "id": "75926758",
      "execution_count": null,
      "outputs": [
        {
          "data": {
            "text/plain": [
              "55668"
            ]
          },
          "execution_count": 65,
          "metadata": {},
          "output_type": "execute_result"
        }
      ]
    },
    {
      "cell_type": "code",
      "metadata": {
        "id": "97b5bdb9",
        "outputId": "5f60214b-8eb8-40fc-e57e-4c31519d4600"
      },
      "source": [
        "edu_2015 = edu.loc[:, ['classification']][edu.loc[:,'arquivo'] == '01-01-2015']\n",
        "n = edu_2015['classification'].isnull().sum()\n",
        "n"
      ],
      "id": "97b5bdb9",
      "execution_count": null,
      "outputs": [
        {
          "data": {
            "text/plain": [
              "2003"
            ]
          },
          "execution_count": 67,
          "metadata": {},
          "output_type": "execute_result"
        }
      ]
    },
    {
      "cell_type": "code",
      "metadata": {
        "id": "5b29a18c",
        "outputId": "88e0a85b-970e-41df-e504-760d20ad051f"
      },
      "source": [
        "len(edu_2015['classification']) - n"
      ],
      "id": "5b29a18c",
      "execution_count": null,
      "outputs": [
        {
          "data": {
            "text/plain": [
              "52825"
            ]
          },
          "execution_count": 68,
          "metadata": {},
          "output_type": "execute_result"
        }
      ]
    },
    {
      "cell_type": "code",
      "metadata": {
        "id": "b0e9d127",
        "outputId": "9b87f48d-f588-479a-c805-023ffb2a7a43"
      },
      "source": [
        "edu_2016 = edu.loc[:, ['classification']][edu.loc[:,'arquivo'] == '01-01-2016']\n",
        "n = edu_2016['classification'].isnull().sum()\n",
        "n"
      ],
      "id": "b0e9d127",
      "execution_count": null,
      "outputs": [
        {
          "data": {
            "text/plain": [
              "7"
            ]
          },
          "execution_count": 71,
          "metadata": {},
          "output_type": "execute_result"
        }
      ]
    },
    {
      "cell_type": "code",
      "metadata": {
        "id": "f128d68f",
        "outputId": "33ce4783-db36-4916-d053-e2bc3c5c3a9d"
      },
      "source": [
        "len(edu_2016['classification']) - n"
      ],
      "id": "f128d68f",
      "execution_count": null,
      "outputs": [
        {
          "data": {
            "text/plain": [
              "54693"
            ]
          },
          "execution_count": 72,
          "metadata": {},
          "output_type": "execute_result"
        }
      ]
    },
    {
      "cell_type": "code",
      "metadata": {
        "id": "baf9793a",
        "outputId": "a150c765-0c8e-4c5f-e7b4-74a43affe3b4"
      },
      "source": [
        "edu_2017 = edu.loc[:, ['classification']][edu.loc[:,'arquivo'] == '01-01-2017']\n",
        "n = edu_2017['classification'].isnull().sum()\n",
        "n"
      ],
      "id": "baf9793a",
      "execution_count": null,
      "outputs": [
        {
          "data": {
            "text/plain": [
              "5"
            ]
          },
          "execution_count": 74,
          "metadata": {},
          "output_type": "execute_result"
        }
      ]
    },
    {
      "cell_type": "code",
      "metadata": {
        "id": "bebb3bfd",
        "outputId": "80165985-8da8-4948-97db-d14ff9db4fd0"
      },
      "source": [
        "len(edu_2017['classification']) - n"
      ],
      "id": "bebb3bfd",
      "execution_count": null,
      "outputs": [
        {
          "data": {
            "text/plain": [
              "48144"
            ]
          },
          "execution_count": 77,
          "metadata": {},
          "output_type": "execute_result"
        }
      ]
    },
    {
      "cell_type": "code",
      "metadata": {
        "id": "49991e0d",
        "outputId": "b5095b5f-be4f-4ba4-cee0-ee58432299e3"
      },
      "source": [
        "edu_2018 = edu.loc[:, ['classification']][edu.loc[:,'arquivo'] == '01-01-2018']\n",
        "n = edu_2018['classification'].isnull().sum()\n",
        "n"
      ],
      "id": "49991e0d",
      "execution_count": null,
      "outputs": [
        {
          "data": {
            "text/plain": [
              "4"
            ]
          },
          "execution_count": 76,
          "metadata": {},
          "output_type": "execute_result"
        }
      ]
    },
    {
      "cell_type": "code",
      "metadata": {
        "id": "6e2cb506",
        "outputId": "87441e4e-7d8b-4bc6-ea52-cbf703e526d3"
      },
      "source": [
        "len(edu_2018['classification']) - n"
      ],
      "id": "6e2cb506",
      "execution_count": null,
      "outputs": [
        {
          "data": {
            "text/plain": [
              "20378"
            ]
          },
          "execution_count": 78,
          "metadata": {},
          "output_type": "execute_result"
        }
      ]
    },
    {
      "cell_type": "code",
      "metadata": {
        "id": "75055769"
      },
      "source": [
        "# Portanto, temos que o total de estudantes que foram classificados em um dos níveis é:\n",
        "\n",
        "# 2011 --- 59126\n",
        "# 2012 --- 58598\n",
        "# 2013 --- 57664\n",
        "# 2014 --- 55668\n",
        "# 2015 --- 52825\n",
        "# 2016 --- 54693\n",
        "# 2017 --- 48144\n",
        "# 2018 --- 20378\n",
        "\n",
        "# Ou seja, o número de estudantes que fizeram o Saresp foi diminuindo ao longo dos anos\n",
        "# O que explica a dúvida que surgiu na análise do gráfico\n"
      ],
      "id": "75055769",
      "execution_count": null,
      "outputs": []
    },
    {
      "cell_type": "code",
      "metadata": {
        "id": "922254e1",
        "outputId": "16ddd612-dde8-439a-a45a-fbe3c179e28d"
      },
      "source": [
        "# Um olhar específico para a área de Matemática:\n",
        "edu_mat = edu.loc[:,:][edu.loc[:,'ds_comp'] == 'MATEMÁTICA']\n",
        "edu_mat.head()"
      ],
      "id": "922254e1",
      "execution_count": null,
      "outputs": [
        {
          "data": {
            "text/html": [
              "<div>\n",
              "<style scoped>\n",
              "    .dataframe tbody tr th:only-of-type {\n",
              "        vertical-align: middle;\n",
              "    }\n",
              "\n",
              "    .dataframe tbody tr th {\n",
              "        vertical-align: top;\n",
              "    }\n",
              "\n",
              "    .dataframe thead th {\n",
              "        text-align: right;\n",
              "    }\n",
              "</style>\n",
              "<table border=\"1\" class=\"dataframe\">\n",
              "  <thead>\n",
              "    <tr style=\"text-align: right;\">\n",
              "      <th></th>\n",
              "      <th>NOMESC</th>\n",
              "      <th>SERIE_ANO</th>\n",
              "      <th>periodo</th>\n",
              "      <th>ds_comp</th>\n",
              "      <th>arquivo</th>\n",
              "      <th>classification</th>\n",
              "    </tr>\n",
              "  </thead>\n",
              "  <tbody>\n",
              "    <tr>\n",
              "      <th>0</th>\n",
              "      <td>GAVIAO PEIXOTO BRIGADEIRO                     ...</td>\n",
              "      <td>3º Ano EF</td>\n",
              "      <td>TARDE</td>\n",
              "      <td>MATEMÁTICA</td>\n",
              "      <td>2016-01-01</td>\n",
              "      <td>Básico</td>\n",
              "    </tr>\n",
              "    <tr>\n",
              "      <th>1</th>\n",
              "      <td>GAVIAO PEIXOTO BRIGADEIRO                     ...</td>\n",
              "      <td>3º Ano EF</td>\n",
              "      <td>GERAL</td>\n",
              "      <td>MATEMÁTICA</td>\n",
              "      <td>2016-01-01</td>\n",
              "      <td>Básico</td>\n",
              "    </tr>\n",
              "    <tr>\n",
              "      <th>2</th>\n",
              "      <td>SUZANA DE CAMPOS DONA                         ...</td>\n",
              "      <td>3º Ano EF</td>\n",
              "      <td>MANHA</td>\n",
              "      <td>MATEMÁTICA</td>\n",
              "      <td>2016-01-01</td>\n",
              "      <td>Adequado</td>\n",
              "    </tr>\n",
              "    <tr>\n",
              "      <th>3</th>\n",
              "      <td>SUZANA DE CAMPOS DONA                         ...</td>\n",
              "      <td>3º Ano EF</td>\n",
              "      <td>GERAL</td>\n",
              "      <td>MATEMÁTICA</td>\n",
              "      <td>2016-01-01</td>\n",
              "      <td>Adequado</td>\n",
              "    </tr>\n",
              "    <tr>\n",
              "      <th>4</th>\n",
              "      <td>JULIO DE FARIA E SOUZA PROFESSOR              ...</td>\n",
              "      <td>3º Ano EF</td>\n",
              "      <td>MANHA</td>\n",
              "      <td>MATEMÁTICA</td>\n",
              "      <td>2016-01-01</td>\n",
              "      <td>Adequado</td>\n",
              "    </tr>\n",
              "  </tbody>\n",
              "</table>\n",
              "</div>"
            ],
            "text/plain": [
              "                                              NOMESC  SERIE_ANO periodo  \\\n",
              "0  GAVIAO PEIXOTO BRIGADEIRO                     ...  3º Ano EF   TARDE   \n",
              "1  GAVIAO PEIXOTO BRIGADEIRO                     ...  3º Ano EF   GERAL   \n",
              "2  SUZANA DE CAMPOS DONA                         ...  3º Ano EF   MANHA   \n",
              "3  SUZANA DE CAMPOS DONA                         ...  3º Ano EF   GERAL   \n",
              "4  JULIO DE FARIA E SOUZA PROFESSOR              ...  3º Ano EF   MANHA   \n",
              "\n",
              "      ds_comp    arquivo classification  \n",
              "0  MATEMÁTICA 2016-01-01         Básico  \n",
              "1  MATEMÁTICA 2016-01-01         Básico  \n",
              "2  MATEMÁTICA 2016-01-01       Adequado  \n",
              "3  MATEMÁTICA 2016-01-01       Adequado  \n",
              "4  MATEMÁTICA 2016-01-01       Adequado  "
            ]
          },
          "execution_count": 97,
          "metadata": {},
          "output_type": "execute_result"
        }
      ]
    },
    {
      "cell_type": "code",
      "metadata": {
        "scrolled": false,
        "id": "6a601021",
        "outputId": "4e1f2bf1-6fb7-487e-dfef-4a2ba90ecf1a"
      },
      "source": [
        "# Plotando o histograma com o total de alunos em cada uma das categorias na área de Matemática:\n",
        "plt.figure(figsize = (20,10))\n",
        "edu_mat['classification'].hist(color = 'purple', edgecolor = 'black', width = 0.4)\n",
        "plt.title(\"Distribuição da classificação dos estudantes entre os anos de 2011 e 2018 - MATEMÁTICA\\n\", fontsize = 20)\n",
        "plt.xlabel(\"\\n Classificação\", fontsize = 15)\n",
        "plt.ylabel(\"Quantidade\", fontsize = 15)"
      ],
      "id": "6a601021",
      "execution_count": null,
      "outputs": [
        {
          "data": {
            "text/plain": [
              "Text(0, 0.5, 'Quantidade')"
            ]
          },
          "execution_count": 80,
          "metadata": {},
          "output_type": "execute_result"
        },
        {
          "data": {
            "image/png": "[encoded data removed]",
            "text/plain": [
              "<Figure size 1440x720 with 1 Axes>"
            ]
          },
          "metadata": {
            "needs_background": "light"
          },
          "output_type": "display_data"
        }
      ]
    },
    {
      "cell_type": "code",
      "metadata": {
        "scrolled": true,
        "id": "65ea7c17",
        "outputId": "02920c1c-104f-4ff1-8bad-56c2af17d33f"
      },
      "source": [
        "# Agrupando os dados da Matemática para geração de gráfico de linhas:\n",
        "agrupado_mat = edu_mat.groupby(['arquivo', 'classification'])['classification'].count()\n",
        "agrupado_mat = pd.DataFrame(agrupado_mat)\n",
        "agrupado_mat.head()"
      ],
      "id": "65ea7c17",
      "execution_count": null,
      "outputs": [
        {
          "data": {
            "text/html": [
              "<div>\n",
              "<style scoped>\n",
              "    .dataframe tbody tr th:only-of-type {\n",
              "        vertical-align: middle;\n",
              "    }\n",
              "\n",
              "    .dataframe tbody tr th {\n",
              "        vertical-align: top;\n",
              "    }\n",
              "\n",
              "    .dataframe thead th {\n",
              "        text-align: right;\n",
              "    }\n",
              "</style>\n",
              "<table border=\"1\" class=\"dataframe\">\n",
              "  <thead>\n",
              "    <tr style=\"text-align: right;\">\n",
              "      <th></th>\n",
              "      <th></th>\n",
              "      <th>classification</th>\n",
              "    </tr>\n",
              "    <tr>\n",
              "      <th>arquivo</th>\n",
              "      <th>classification</th>\n",
              "      <th></th>\n",
              "    </tr>\n",
              "  </thead>\n",
              "  <tbody>\n",
              "    <tr>\n",
              "      <th rowspan=\"4\" valign=\"top\">2011-01-01</th>\n",
              "      <th>Abaixo do Básico</th>\n",
              "      <td>362</td>\n",
              "    </tr>\n",
              "    <tr>\n",
              "      <th>Adequado</th>\n",
              "      <td>5260</td>\n",
              "    </tr>\n",
              "    <tr>\n",
              "      <th>Avançado</th>\n",
              "      <td>270</td>\n",
              "    </tr>\n",
              "    <tr>\n",
              "      <th>Básico</th>\n",
              "      <td>23671</td>\n",
              "    </tr>\n",
              "    <tr>\n",
              "      <th>2012-01-01</th>\n",
              "      <th>Abaixo do Básico</th>\n",
              "      <td>622</td>\n",
              "    </tr>\n",
              "  </tbody>\n",
              "</table>\n",
              "</div>"
            ],
            "text/plain": [
              "                             classification\n",
              "arquivo    classification                  \n",
              "2011-01-01 Abaixo do Básico             362\n",
              "           Adequado                    5260\n",
              "           Avançado                     270\n",
              "           Básico                     23671\n",
              "2012-01-01 Abaixo do Básico             622"
            ]
          },
          "execution_count": 96,
          "metadata": {},
          "output_type": "execute_result"
        }
      ]
    },
    {
      "cell_type": "code",
      "metadata": {
        "id": "ed750ecd"
      },
      "source": [
        "# Renomeando a coluna:\n",
        "agrupado_mat.columns = ['Classificação']"
      ],
      "id": "ed750ecd",
      "execution_count": null,
      "outputs": []
    },
    {
      "cell_type": "code",
      "metadata": {
        "id": "b3da4a5d",
        "outputId": "57dd056f-251e-4bf5-de73-0ff62a67fa67"
      },
      "source": [
        "# Gráfico de linhas da Matemática:\n",
        "\n",
        "plt.figure(figsize = (20,10))\n",
        "sns.lineplot(x = \"arquivo\", y = \"Classificação\", data = agrupado_mat, hue = 'classification', lw = 3)\n",
        "\n",
        "plt.title('Gráfico da classificação dos estudates entre 2011 e 2018 - MATEMÁTICA\\n', fontsize = 20)\n",
        "plt.xlabel('Ano', fontsize = 15)\n",
        "plt.ylabel('Quantidade', fontsize = 15)\n",
        "plt.legend(fontsize = 20)\n",
        "plt.show()"
      ],
      "id": "b3da4a5d",
      "execution_count": null,
      "outputs": [
        {
          "data": {
            "image/png": "[encoded data removed]",
            "text/plain": [
              "<Figure size 1440x720 with 1 Axes>"
            ]
          },
          "metadata": {
            "needs_background": "light"
          },
          "output_type": "display_data"
        }
      ]
    },
    {
      "cell_type": "code",
      "metadata": {
        "id": "a80d40b3",
        "outputId": "3b2f77cf-790d-4a48-9262-d2532a67b7a2"
      },
      "source": [
        "# Um olhar específico para o componente curricular de Língua Portuguesa:\n",
        "edu_lp = edu.loc[:,:][edu.loc[:,'ds_comp'] == 'LÍNGUA PORTUGUESA']\n",
        "edu_lp.head()"
      ],
      "id": "a80d40b3",
      "execution_count": null,
      "outputs": [
        {
          "data": {
            "text/html": [
              "<div>\n",
              "<style scoped>\n",
              "    .dataframe tbody tr th:only-of-type {\n",
              "        vertical-align: middle;\n",
              "    }\n",
              "\n",
              "    .dataframe tbody tr th {\n",
              "        vertical-align: top;\n",
              "    }\n",
              "\n",
              "    .dataframe thead th {\n",
              "        text-align: right;\n",
              "    }\n",
              "</style>\n",
              "<table border=\"1\" class=\"dataframe\">\n",
              "  <thead>\n",
              "    <tr style=\"text-align: right;\">\n",
              "      <th></th>\n",
              "      <th>NOMESC</th>\n",
              "      <th>SERIE_ANO</th>\n",
              "      <th>periodo</th>\n",
              "      <th>ds_comp</th>\n",
              "      <th>arquivo</th>\n",
              "      <th>classification</th>\n",
              "    </tr>\n",
              "  </thead>\n",
              "  <tbody>\n",
              "    <tr>\n",
              "      <th>204605</th>\n",
              "      <td>GAVIAO PEIXOTO BRIGADEIRO                     ...</td>\n",
              "      <td>3º Ano EF</td>\n",
              "      <td>TARDE</td>\n",
              "      <td>LÍNGUA PORTUGUESA</td>\n",
              "      <td>2016-01-01</td>\n",
              "      <td>Básico</td>\n",
              "    </tr>\n",
              "    <tr>\n",
              "      <th>204606</th>\n",
              "      <td>GAVIAO PEIXOTO BRIGADEIRO                     ...</td>\n",
              "      <td>3º Ano EF</td>\n",
              "      <td>GERAL</td>\n",
              "      <td>LÍNGUA PORTUGUESA</td>\n",
              "      <td>2016-01-01</td>\n",
              "      <td>Básico</td>\n",
              "    </tr>\n",
              "    <tr>\n",
              "      <th>204607</th>\n",
              "      <td>SUZANA DE CAMPOS DONA                         ...</td>\n",
              "      <td>3º Ano EF</td>\n",
              "      <td>MANHA</td>\n",
              "      <td>LÍNGUA PORTUGUESA</td>\n",
              "      <td>2016-01-01</td>\n",
              "      <td>Básico</td>\n",
              "    </tr>\n",
              "    <tr>\n",
              "      <th>204608</th>\n",
              "      <td>SUZANA DE CAMPOS DONA                         ...</td>\n",
              "      <td>3º Ano EF</td>\n",
              "      <td>GERAL</td>\n",
              "      <td>LÍNGUA PORTUGUESA</td>\n",
              "      <td>2016-01-01</td>\n",
              "      <td>Básico</td>\n",
              "    </tr>\n",
              "    <tr>\n",
              "      <th>204609</th>\n",
              "      <td>JULIO DE FARIA E SOUZA PROFESSOR              ...</td>\n",
              "      <td>3º Ano EF</td>\n",
              "      <td>MANHA</td>\n",
              "      <td>LÍNGUA PORTUGUESA</td>\n",
              "      <td>2016-01-01</td>\n",
              "      <td>Básico</td>\n",
              "    </tr>\n",
              "  </tbody>\n",
              "</table>\n",
              "</div>"
            ],
            "text/plain": [
              "                                                   NOMESC  SERIE_ANO periodo  \\\n",
              "204605  GAVIAO PEIXOTO BRIGADEIRO                     ...  3º Ano EF   TARDE   \n",
              "204606  GAVIAO PEIXOTO BRIGADEIRO                     ...  3º Ano EF   GERAL   \n",
              "204607  SUZANA DE CAMPOS DONA                         ...  3º Ano EF   MANHA   \n",
              "204608  SUZANA DE CAMPOS DONA                         ...  3º Ano EF   GERAL   \n",
              "204609  JULIO DE FARIA E SOUZA PROFESSOR              ...  3º Ano EF   MANHA   \n",
              "\n",
              "                  ds_comp    arquivo classification  \n",
              "204605  LÍNGUA PORTUGUESA 2016-01-01         Básico  \n",
              "204606  LÍNGUA PORTUGUESA 2016-01-01         Básico  \n",
              "204607  LÍNGUA PORTUGUESA 2016-01-01         Básico  \n",
              "204608  LÍNGUA PORTUGUESA 2016-01-01         Básico  \n",
              "204609  LÍNGUA PORTUGUESA 2016-01-01         Básico  "
            ]
          },
          "execution_count": 95,
          "metadata": {},
          "output_type": "execute_result"
        }
      ]
    },
    {
      "cell_type": "code",
      "metadata": {
        "id": "5fbc4cc9",
        "outputId": "973f8d1f-5a54-48ce-8ca5-d5c5a48b4728"
      },
      "source": [
        "plt.figure(figsize = (20,10))\n",
        "edu_lp['classification'].hist(color = 'blue', edgecolor = 'black', width = 0.4)\n",
        "plt.title(\"Distribuição da classificação dos estudantes entre os anos de 2011 e 2018 - LÍNGUA PORTUGUESA\\n\", fontsize = 20)\n",
        "plt.xlabel(\"\\n Classificação\", fontsize = 15)\n",
        "plt.ylabel(\"Quantidade\", fontsize = 15)"
      ],
      "id": "5fbc4cc9",
      "execution_count": null,
      "outputs": [
        {
          "data": {
            "text/plain": [
              "Text(0, 0.5, 'Quantidade')"
            ]
          },
          "execution_count": 82,
          "metadata": {},
          "output_type": "execute_result"
        },
        {
          "data": {
            "image/png": "[encoded data removed]",
            "text/plain": [
              "<Figure size 1440x720 with 1 Axes>"
            ]
          },
          "metadata": {
            "needs_background": "light"
          },
          "output_type": "display_data"
        }
      ]
    },
    {
      "cell_type": "code",
      "metadata": {
        "id": "c0dac688",
        "outputId": "392ca258-caf1-4805-a63e-58089721f932"
      },
      "source": [
        "agrupado_lp = edu_lp.groupby(['arquivo', 'classification'])['classification'].count()\n",
        "agrupado_lp = pd.DataFrame(agrupado_lp)\n",
        "agrupado_lp.head()"
      ],
      "id": "c0dac688",
      "execution_count": null,
      "outputs": [
        {
          "data": {
            "text/html": [
              "<div>\n",
              "<style scoped>\n",
              "    .dataframe tbody tr th:only-of-type {\n",
              "        vertical-align: middle;\n",
              "    }\n",
              "\n",
              "    .dataframe tbody tr th {\n",
              "        vertical-align: top;\n",
              "    }\n",
              "\n",
              "    .dataframe thead th {\n",
              "        text-align: right;\n",
              "    }\n",
              "</style>\n",
              "<table border=\"1\" class=\"dataframe\">\n",
              "  <thead>\n",
              "    <tr style=\"text-align: right;\">\n",
              "      <th></th>\n",
              "      <th></th>\n",
              "      <th>classification</th>\n",
              "    </tr>\n",
              "    <tr>\n",
              "      <th>arquivo</th>\n",
              "      <th>classification</th>\n",
              "      <th></th>\n",
              "    </tr>\n",
              "  </thead>\n",
              "  <tbody>\n",
              "    <tr>\n",
              "      <th rowspan=\"4\" valign=\"top\">2011-01-01</th>\n",
              "      <th>Abaixo do Básico</th>\n",
              "      <td>1419</td>\n",
              "    </tr>\n",
              "    <tr>\n",
              "      <th>Adequado</th>\n",
              "      <td>2591</td>\n",
              "    </tr>\n",
              "    <tr>\n",
              "      <th>Avançado</th>\n",
              "      <td>40</td>\n",
              "    </tr>\n",
              "    <tr>\n",
              "      <th>Básico</th>\n",
              "      <td>25513</td>\n",
              "    </tr>\n",
              "    <tr>\n",
              "      <th>2012-01-01</th>\n",
              "      <th>Abaixo do Básico</th>\n",
              "      <td>1212</td>\n",
              "    </tr>\n",
              "  </tbody>\n",
              "</table>\n",
              "</div>"
            ],
            "text/plain": [
              "                             classification\n",
              "arquivo    classification                  \n",
              "2011-01-01 Abaixo do Básico            1419\n",
              "           Adequado                    2591\n",
              "           Avançado                      40\n",
              "           Básico                     25513\n",
              "2012-01-01 Abaixo do Básico            1212"
            ]
          },
          "execution_count": 94,
          "metadata": {},
          "output_type": "execute_result"
        }
      ]
    },
    {
      "cell_type": "code",
      "metadata": {
        "id": "7ccdc9b9"
      },
      "source": [
        "agrupado_lp.columns = ['Classificação']"
      ],
      "id": "7ccdc9b9",
      "execution_count": null,
      "outputs": []
    },
    {
      "cell_type": "code",
      "metadata": {
        "id": "ca01a9ca",
        "outputId": "696dfbe6-c09d-45f4-bf9f-05418e2a8b1c"
      },
      "source": [
        "plt.figure(figsize = (20,10))\n",
        "sns.lineplot(x = \"arquivo\", y = \"Classificação\", data = agrupado_lp, hue = 'classification', lw = 3)\n",
        "\n",
        "plt.title('Gráfico da classificação dos estudates entre 2011 e 2018 - LÍNGUA PORTUGUESA\\n', fontsize = 20)\n",
        "plt.xlabel('Ano', fontsize = 15)\n",
        "plt.ylabel('Quantidade', fontsize = 15)\n",
        "plt.legend(fontsize = 20)\n",
        "plt.show()"
      ],
      "id": "ca01a9ca",
      "execution_count": null,
      "outputs": [
        {
          "data": {
            "image/png": "[encoded data removed]",
            "text/plain": [
              "<Figure size 1440x720 with 1 Axes>"
            ]
          },
          "metadata": {
            "needs_background": "light"
          },
          "output_type": "display_data"
        }
      ]
    },
    {
      "cell_type": "code",
      "metadata": {
        "id": "23722253"
      },
      "source": [
        "# O estudo pode ser ainda mais aprofundado por:\n",
        "# ano, série, período, em percentual, comparando-se os resultados de Matemática e Língua Portuguesa\n",
        "# Mas já se pode ter uma ideia de que esses resultados precisam melhorar\n",
        "# Como?"
      ],
      "id": "23722253",
      "execution_count": null,
      "outputs": []
    },
    {
      "cell_type": "code",
      "metadata": {
        "id": "876de996"
      },
      "source": [
        ""
      ],
      "id": "876de996",
      "execution_count": null,
      "outputs": []
    }
  ]
}